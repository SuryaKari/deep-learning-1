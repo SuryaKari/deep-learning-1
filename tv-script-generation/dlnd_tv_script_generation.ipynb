{
 "cells": [
  {
   "cell_type": "markdown",
   "metadata": {
    "deletable": true,
    "editable": true
   },
   "source": [
    "# TV Script Generation\n",
    "In this project, you'll generate your own [Simpsons](https://en.wikipedia.org/wiki/The_Simpsons) TV scripts using RNNs.  You'll be using part of the [Simpsons dataset](https://www.kaggle.com/wcukierski/the-simpsons-by-the-data) of scripts from 27 seasons.  The Neural Network you'll build will generate a new TV script for a scene at [Moe's Tavern](https://simpsonswiki.com/wiki/Moe's_Tavern).\n",
    "## Get the Data\n",
    "The data is already provided for you.  You'll be using a subset of the original dataset.  It consists of only the scenes in Moe's Tavern.  This doesn't include other versions of the tavern, like \"Moe's Cavern\", \"Flaming Moe's\", \"Uncle Moe's Family Feed-Bag\", etc.."
   ]
  },
  {
   "cell_type": "code",
   "execution_count": 1,
   "metadata": {
    "ExecuteTime": {
     "end_time": "2018-02-03T14:20:27.484721Z",
     "start_time": "2018-02-03T14:20:27.478295Z"
    },
    "collapsed": true,
    "deletable": true,
    "editable": true
   },
   "outputs": [],
   "source": [
    "\"\"\"\n",
    "DON'T MODIFY ANYTHING IN THIS CELL\n",
    "\"\"\"\n",
    "import helper\n",
    "\n",
    "data_dir = './data/simpsons/moes_tavern_lines.txt'\n",
    "text = helper.load_data(data_dir)\n",
    "# Ignore notice, since we don't use it for analysing the data\n",
    "text = text[81:]"
   ]
  },
  {
   "cell_type": "markdown",
   "metadata": {
    "deletable": true,
    "editable": true
   },
   "source": [
    "## Explore the Data\n",
    "Play around with `view_sentence_range` to view different parts of the data."
   ]
  },
  {
   "cell_type": "code",
   "execution_count": 2,
   "metadata": {
    "ExecuteTime": {
     "end_time": "2018-02-03T14:20:28.380699Z",
     "start_time": "2018-02-03T14:20:28.247920Z"
    },
    "collapsed": false,
    "deletable": true,
    "editable": true
   },
   "outputs": [
    {
     "name": "stdout",
     "output_type": "stream",
     "text": [
      "Dataset Stats\n",
      "Roughly the number of unique words: 11492\n",
      "Number of scenes: 262\n",
      "Average number of sentences in each scene: 15.2519083969\n",
      "Number of lines: 4258\n",
      "Average number of words in each line: 11.5016439643\n",
      "()\n",
      "The sentences 0 to 10:\n",
      "\n",
      "Moe_Szyslak: (INTO PHONE) Moe's Tavern. Where the elite meet to drink.\n",
      "Bart_Simpson: Eh, yeah, hello, is Mike there? Last name, Rotch.\n",
      "Moe_Szyslak: (INTO PHONE) Hold on, I'll check. (TO BARFLIES) Mike Rotch. Mike Rotch. Hey, has anybody seen Mike Rotch, lately?\n",
      "Moe_Szyslak: (INTO PHONE) Listen you little puke. One of these days I'm gonna catch you, and I'm gonna carve my name on your back with an ice pick.\n",
      "Moe_Szyslak: What's the matter Homer? You're not your normal effervescent self.\n",
      "Homer_Simpson: I got my problems, Moe. Give me another one.\n",
      "Moe_Szyslak: Homer, hey, you should not drink to forget your problems.\n",
      "Barney_Gumble: Yeah, you should only drink to enhance your social skills.\n",
      "\n"
     ]
    }
   ],
   "source": [
    "view_sentence_range = (0, 10)\n",
    "\n",
    "\"\"\"\n",
    "DON'T MODIFY ANYTHING IN THIS CELL\n",
    "\"\"\"\n",
    "import numpy as np\n",
    "\n",
    "print('Dataset Stats')\n",
    "print('Roughly the number of unique words: {}'.format(len({word: None for word in text.split()})))\n",
    "scenes = text.split('\\n\\n')\n",
    "print('Number of scenes: {}'.format(len(scenes)))\n",
    "sentence_count_scene = [scene.count('\\n') for scene in scenes]\n",
    "print('Average number of sentences in each scene: {}'.format(np.average(sentence_count_scene)))\n",
    "\n",
    "sentences = [sentence for scene in scenes for sentence in scene.split('\\n')]\n",
    "print('Number of lines: {}'.format(len(sentences)))\n",
    "word_count_sentence = [len(sentence.split()) for sentence in sentences]\n",
    "print('Average number of words in each line: {}'.format(np.average(word_count_sentence)))\n",
    "\n",
    "print()\n",
    "print('The sentences {} to {}:'.format(*view_sentence_range))\n",
    "print('\\n'.join(text.split('\\n')[view_sentence_range[0]:view_sentence_range[1]]))"
   ]
  },
  {
   "cell_type": "markdown",
   "metadata": {
    "deletable": true,
    "editable": true
   },
   "source": [
    "## Implement Preprocessing Functions\n",
    "The first thing to do to any dataset is preprocessing.  Implement the following preprocessing functions below:\n",
    "- Lookup Table\n",
    "- Tokenize Punctuation\n",
    "\n",
    "### Lookup Table\n",
    "To create a word embedding, you first need to transform the words to ids.  In this function, create two dictionaries:\n",
    "- Dictionary to go from the words to an id, we'll call `vocab_to_int`\n",
    "- Dictionary to go from the id to word, we'll call `int_to_vocab`\n",
    "\n",
    "Return these dictionaries in the following tuple `(vocab_to_int, int_to_vocab)`"
   ]
  },
  {
   "cell_type": "code",
   "execution_count": 3,
   "metadata": {
    "ExecuteTime": {
     "end_time": "2018-02-03T14:20:31.378440Z",
     "start_time": "2018-02-03T14:20:29.696926Z"
    },
    "collapsed": false,
    "deletable": true,
    "editable": true
   },
   "outputs": [
    {
     "name": "stdout",
     "output_type": "stream",
     "text": [
      "Tests Passed\n"
     ]
    }
   ],
   "source": [
    "import numpy as np\n",
    "import problem_unittests as tests\n",
    "\n",
    "def create_lookup_tables(text):\n",
    "    \"\"\"\n",
    "    Create lookup tables for vocabulary\n",
    "    :param text: The text of tv scripts split into words\n",
    "    :return: A tuple of dicts (vocab_to_int, int_to_vocab)\n",
    "    \"\"\"\n",
    "    # TODO: Implement Function\n",
    "    from collections import Counter\n",
    "    counts = Counter(text)\n",
    "    vocab = sorted(counts,key = counts.get,reverse = True)\n",
    "    vocab_to_int = {word: ii for ii,word in enumerate(vocab)}\n",
    "    int_to_vocab = {key: word for word,key in vocab_to_int.items()}\n",
    "    return (vocab_to_int,int_to_vocab)\n",
    "\n",
    "\n",
    "\"\"\"\n",
    "DON'T MODIFY ANYTHING IN THIS CELL THAT IS BELOW THIS LINE\n",
    "\"\"\"\n",
    "tests.test_create_lookup_tables(create_lookup_tables)"
   ]
  },
  {
   "cell_type": "markdown",
   "metadata": {
    "deletable": true,
    "editable": true
   },
   "source": [
    "### Tokenize Punctuation\n",
    "We'll be splitting the script into a word array using spaces as delimiters.  However, punctuations like periods and exclamation marks make it hard for the neural network to distinguish between the word \"bye\" and \"bye!\".\n",
    "\n",
    "Implement the function `token_lookup` to return a dict that will be used to tokenize symbols like \"!\" into \"||Exclamation_Mark||\".  Create a dictionary for the following symbols where the symbol is the key and value is the token:\n",
    "- Period ( . )\n",
    "- Comma ( , )\n",
    "- Quotation Mark ( \" )\n",
    "- Semicolon ( ; )\n",
    "- Exclamation mark ( ! )\n",
    "- Question mark ( ? )\n",
    "- Left Parentheses ( ( )\n",
    "- Right Parentheses ( ) )\n",
    "- Dash ( -- )\n",
    "- Return ( \\n )\n",
    "\n",
    "This dictionary will be used to token the symbols and add the delimiter (space) around it.  This separates the symbols as it's own word, making it easier for the neural network to predict on the next word. Make sure you don't use a token that could be confused as a word. Instead of using the token \"dash\", try using something like \"||dash||\"."
   ]
  },
  {
   "cell_type": "code",
   "execution_count": 4,
   "metadata": {
    "ExecuteTime": {
     "end_time": "2018-02-03T14:20:34.538088Z",
     "start_time": "2018-02-03T14:20:34.526955Z"
    },
    "collapsed": false,
    "deletable": true,
    "editable": true
   },
   "outputs": [
    {
     "name": "stdout",
     "output_type": "stream",
     "text": [
      "Tests Passed\n"
     ]
    }
   ],
   "source": [
    "def token_lookup():\n",
    "    \"\"\"\n",
    "    Generate a dict to turn punctuation into a token.\n",
    "    :return: Tokenize dictionary where the key is the punctuation and the value is the token\n",
    "    \"\"\"\n",
    "    # TODO: Implement Function\n",
    "    \n",
    "    tk_dict = {\n",
    "        \".\": \"||period||\",\n",
    "        \",\": \"||comma||\",\n",
    "        \"\\\"\": \"||quotation||\",\n",
    "        \";\": \"||semicolon||\",\n",
    "        \"!\": \"||exclamation||\",\n",
    "        \"?\": \"||question||\",\n",
    "        \"(\": \"||left_parentheses||\",\n",
    "        \")\": \"||right_parentheses||\",\n",
    "        \"--\": \"||dash||\",\n",
    "        \"\\n\": \"||return||\"\n",
    "        \n",
    "    }\n",
    "    return tk_dict\n",
    "    \n",
    "\"\"\"\n",
    "DON'T MODIFY ANYTHING IN THIS CELL THAT IS BELOW THIS LINE\n",
    "\"\"\"\n",
    "tests.test_tokenize(token_lookup)"
   ]
  },
  {
   "cell_type": "markdown",
   "metadata": {
    "deletable": true,
    "editable": true
   },
   "source": [
    "## Preprocess all the data and save it\n",
    "Running the code cell below will preprocess all the data and save it to file."
   ]
  },
  {
   "cell_type": "code",
   "execution_count": 5,
   "metadata": {
    "ExecuteTime": {
     "end_time": "2018-02-03T14:20:36.554042Z",
     "start_time": "2018-02-03T14:20:36.326606Z"
    },
    "collapsed": true,
    "deletable": true,
    "editable": true
   },
   "outputs": [],
   "source": [
    "\"\"\"\n",
    "DON'T MODIFY ANYTHING IN THIS CELL\n",
    "\"\"\"\n",
    "# Preprocess Training, Validation, and Testing Data\n",
    "helper.preprocess_and_save_data(data_dir, token_lookup, create_lookup_tables)"
   ]
  },
  {
   "cell_type": "markdown",
   "metadata": {
    "deletable": true,
    "editable": true
   },
   "source": [
    "# Check Point\n",
    "This is your first checkpoint. If you ever decide to come back to this notebook or have to restart the notebook, you can start from here. The preprocessed data has been saved to disk."
   ]
  },
  {
   "cell_type": "code",
   "execution_count": 6,
   "metadata": {
    "ExecuteTime": {
     "end_time": "2018-02-03T14:20:38.593070Z",
     "start_time": "2018-02-03T14:20:38.407326Z"
    },
    "collapsed": true,
    "deletable": true,
    "editable": true
   },
   "outputs": [],
   "source": [
    "\"\"\"\n",
    "DON'T MODIFY ANYTHING IN THIS CELL\n",
    "\"\"\"\n",
    "import helper\n",
    "import numpy as np\n",
    "import problem_unittests as tests\n",
    "\n",
    "int_text, vocab_to_int, int_to_vocab, token_dict = helper.load_preprocess()"
   ]
  },
  {
   "cell_type": "markdown",
   "metadata": {
    "deletable": true,
    "editable": true
   },
   "source": [
    "## Build the Neural Network\n",
    "You'll build the components necessary to build a RNN by implementing the following functions below:\n",
    "- get_inputs\n",
    "- get_init_cell\n",
    "- get_embed\n",
    "- build_rnn\n",
    "- build_nn\n",
    "- get_batches\n",
    "\n",
    "### Check the Version of TensorFlow and Access to GPU"
   ]
  },
  {
   "cell_type": "code",
   "execution_count": 7,
   "metadata": {
    "ExecuteTime": {
     "end_time": "2018-02-03T14:20:42.299570Z",
     "start_time": "2018-02-03T14:20:42.288759Z"
    },
    "collapsed": false,
    "deletable": true,
    "editable": true
   },
   "outputs": [
    {
     "name": "stderr",
     "output_type": "stream",
     "text": [
      "/usr/local/lib/python2.7/dist-packages/ipykernel_launcher.py:20: UserWarning: No GPU found. Please use a GPU to train your neural network.\n"
     ]
    }
   ],
   "source": [
    "\"\"\"\n",
    "DON'T MODIFY ANYTHING IN THIS CELL\n",
    "\"\"\"\n",
    "from distutils.version import LooseVersion\n",
    "import warnings\n",
    "import tensorflow as tf\n",
    "\n",
    "from tensorflow.python.client import device_lib\n",
    "\n",
    "device_lib.list_local_devices()\n",
    "\n",
    "# Check TensorFlow Version\n",
    "\n",
    "#!pip install tensorflow==1.1\n",
    "# assert LooseVersion(tf.__version__) >= LooseVersion('1.0'), 'Please use TensorFlow version 1.0 or newer'\n",
    "# print('TensorFlow Version: {}'.format(tf.__version__))\n",
    "\n",
    "# # Check for a GPU\n",
    "if not tf.test.gpu_device_name():\n",
    "    warnings.warn('No GPU found. Please use a GPU to train your neural network.')\n",
    "else:\n",
    "    print('Default GPU Device: {}'.format(tf.test.gpu_device_name()))"
   ]
  },
  {
   "cell_type": "markdown",
   "metadata": {
    "deletable": true,
    "editable": true
   },
   "source": [
    "### Input\n",
    "Implement the `get_inputs()` function to create TF Placeholders for the Neural Network.  It should create the following placeholders:\n",
    "- Input text placeholder named \"input\" using the [TF Placeholder](https://www.tensorflow.org/api_docs/python/tf/placeholder) `name` parameter.\n",
    "- Targets placeholder\n",
    "- Learning Rate placeholder\n",
    "\n",
    "Return the placeholders in the following tuple `(Input, Targets, LearningRate)`"
   ]
  },
  {
   "cell_type": "code",
   "execution_count": 8,
   "metadata": {
    "ExecuteTime": {
     "end_time": "2018-02-03T14:20:44.888032Z",
     "start_time": "2018-02-03T14:20:44.876344Z"
    },
    "collapsed": false,
    "deletable": true,
    "editable": true
   },
   "outputs": [
    {
     "name": "stdout",
     "output_type": "stream",
     "text": [
      "Tests Passed\n"
     ]
    }
   ],
   "source": [
    "def get_inputs():\n",
    "    \"\"\"\n",
    "    Create TF Placeholders for input, targets, and learning rate.\n",
    "    :return: Tuple (input, targets, learning rate)\n",
    "    \"\"\"\n",
    "    # TODO: Implement Function\n",
    "    \n",
    "    inputs = tf.placeholder(tf.int32, [None, None] ,\"input\")\n",
    "    targets = tf.placeholder(tf.int32, [None, None], \"target\")\n",
    "    lr = tf.placeholder(tf.float32, name=\"lr\")\n",
    "    return inputs, targets, lr\n",
    "\n",
    "\n",
    "\"\"\"\n",
    "DON'T MODIFY ANYTHING IN THIS CELL THAT IS BELOW THIS LINE\n",
    "\"\"\"\n",
    "tests.test_get_inputs(get_inputs)"
   ]
  },
  {
   "cell_type": "markdown",
   "metadata": {
    "deletable": true,
    "editable": true
   },
   "source": [
    "### Build RNN Cell and Initialize\n",
    "Stack one or more [`BasicLSTMCells`](https://www.tensorflow.org/api_docs/python/tf/contrib/rnn/BasicLSTMCell) in a [`MultiRNNCell`](https://www.tensorflow.org/api_docs/python/tf/contrib/rnn/MultiRNNCell).\n",
    "- The Rnn size should be set using `rnn_size`\n",
    "- Initalize Cell State using the MultiRNNCell's [`zero_state()`](https://www.tensorflow.org/api_docs/python/tf/contrib/rnn/MultiRNNCell#zero_state) function\n",
    "    - Apply the name \"initial_state\" to the initial state using [`tf.identity()`](https://www.tensorflow.org/api_docs/python/tf/identity)\n",
    "\n",
    "Return the cell and initial state in the following tuple `(Cell, InitialState)`"
   ]
  },
  {
   "cell_type": "code",
   "execution_count": 9,
   "metadata": {
    "ExecuteTime": {
     "end_time": "2018-02-03T14:20:46.022585Z",
     "start_time": "2018-02-03T14:20:46.003658Z"
    },
    "collapsed": false,
    "deletable": true,
    "editable": true
   },
   "outputs": [
    {
     "name": "stdout",
     "output_type": "stream",
     "text": [
      "Tests Passed\n"
     ]
    }
   ],
   "source": [
    "def get_init_cell(batch_size, rnn_size, number_of_layers = 1):\n",
    "    \"\"\"\n",
    "    Create an RNN Cell and initialize it.\n",
    "    :param batch_size: Size of batches\n",
    "    :param rnn_size: Size of RNNs\n",
    "    :return: Tuple (cell, initialize state)\n",
    "    \"\"\"\n",
    "    # TODO: Implement Function\n",
    "    \n",
    "    lstm = tf.contrib.rnn.BasicLSTMCell(rnn_size, state_is_tuple=True)\n",
    "    cell = tf.contrib.rnn.MultiRNNCell([lstm] * number_of_layers, state_is_tuple=True)\n",
    "    init_state = cell.zero_state(batch_size, tf.float32)\n",
    "    init_state = tf.identity(init_state, 'initial_state')\n",
    "    return cell, init_state\n",
    "\n",
    "\n",
    "\n",
    "\"\"\"\n",
    "DON'T MODIFY ANYTHING IN THIS CELL THAT IS BELOW THIS LINE\n",
    "\"\"\"\n",
    "tests.test_get_init_cell(get_init_cell)"
   ]
  },
  {
   "cell_type": "markdown",
   "metadata": {
    "deletable": true,
    "editable": true
   },
   "source": [
    "### Word Embedding\n",
    "Apply embedding to `input_data` using TensorFlow.  Return the embedded sequence."
   ]
  },
  {
   "cell_type": "code",
   "execution_count": 10,
   "metadata": {
    "ExecuteTime": {
     "end_time": "2018-02-03T14:20:47.102131Z",
     "start_time": "2018-02-03T14:20:47.085287Z"
    },
    "collapsed": false,
    "deletable": true,
    "editable": true
   },
   "outputs": [
    {
     "name": "stdout",
     "output_type": "stream",
     "text": [
      "Tests Passed\n"
     ]
    }
   ],
   "source": [
    "def get_embed(input_data, vocab_size, embed_dim):\n",
    "    \"\"\"\n",
    "    Create embedding for <input_data>.\n",
    "    :param input_data: TF placeholder for text input.\n",
    "    :param vocab_size: Number of words in vocabulary.\n",
    "    :param embed_dim: Number of embedding dimensions\n",
    "    :return: Embedded input.\n",
    "    \"\"\"\n",
    "    # TODO: Implement Function\n",
    "    \n",
    "    embedding = tf.Variable(tf.truncated_normal([vocab_size, embed_dim], stddev=0.1), \n",
    "                            dtype=tf.float32, name=\"embedding\")\n",
    "    embedded_inputs = tf.nn.embedding_lookup(embedding, input_data)\n",
    "    \n",
    "    return embedded_inputs\n",
    "\n",
    "\"\"\"\n",
    "DON'T MODIFY ANYTHING IN THIS CELL THAT IS BELOW THIS LINE\n",
    "\"\"\"\n",
    "tests.test_get_embed(get_embed)"
   ]
  },
  {
   "cell_type": "markdown",
   "metadata": {
    "deletable": true,
    "editable": true
   },
   "source": [
    "### Build RNN\n",
    "You created a RNN Cell in the `get_init_cell()` function.  Time to use the cell to create a RNN.\n",
    "- Build the RNN using the [`tf.nn.dynamic_rnn()`](https://www.tensorflow.org/api_docs/python/tf/nn/dynamic_rnn)\n",
    " - Apply the name \"final_state\" to the final state using [`tf.identity()`](https://www.tensorflow.org/api_docs/python/tf/identity)\n",
    "\n",
    "Return the outputs and final_state state in the following tuple `(Outputs, FinalState)` "
   ]
  },
  {
   "cell_type": "code",
   "execution_count": 11,
   "metadata": {
    "ExecuteTime": {
     "end_time": "2018-02-03T14:20:48.434115Z",
     "start_time": "2018-02-03T14:20:48.324864Z"
    },
    "collapsed": false,
    "deletable": true,
    "editable": true
   },
   "outputs": [
    {
     "name": "stdout",
     "output_type": "stream",
     "text": [
      "(2, 2, ?, 256)\n",
      "Tests Passed\n"
     ]
    }
   ],
   "source": [
    "def build_rnn(cell, inputs):\n",
    "    \"\"\"\n",
    "    Create a RNN using a RNN Cell\n",
    "    :param cell: RNN Cell\n",
    "    :param inputs: Input text data\n",
    "    :return: Tuple (Outputs, Final State)\n",
    "    \"\"\"\n",
    "    # TODO: Implement Function\n",
    "    \n",
    "    outputs, final_state = tf.nn.dynamic_rnn(cell, inputs, dtype=tf.float32)\n",
    "    final_state = tf.identity(final_state, 'final_state')\n",
    "    \n",
    "    print(final_state.shape)\n",
    "    return outputs, final_state\n",
    "\n",
    "\n",
    "\"\"\"\n",
    "DON'T MODIFY ANYTHING IN THIS CELL THAT IS BELOW THIS LINE\n",
    "\"\"\"\n",
    "tests.test_build_rnn(build_rnn)"
   ]
  },
  {
   "cell_type": "markdown",
   "metadata": {
    "deletable": true,
    "editable": true
   },
   "source": [
    "### Build the Neural Network\n",
    "Apply the functions you implemented above to:\n",
    "- Apply embedding to `input_data` using your `get_embed(input_data, vocab_size, embed_dim)` function.\n",
    "- Build RNN using `cell` and your `build_rnn(cell, inputs)` function.\n",
    "- Apply a fully connected layer with a linear activation and `vocab_size` as the number of outputs.\n",
    "\n",
    "Return the logits and final state in the following tuple (Logits, FinalState) "
   ]
  },
  {
   "cell_type": "code",
   "execution_count": 12,
   "metadata": {
    "ExecuteTime": {
     "end_time": "2018-02-03T14:20:50.468736Z",
     "start_time": "2018-02-03T14:20:50.334857Z"
    },
    "collapsed": false,
    "deletable": true,
    "editable": true
   },
   "outputs": [
    {
     "name": "stdout",
     "output_type": "stream",
     "text": [
      "(2, 2, ?, 256)\n",
      "(2, 2, ?, 256)\n",
      "Tests Passed\n"
     ]
    }
   ],
   "source": [
    "def build_nn(cell, rnn_size, input_data, vocab_size, embed_dim):\n",
    "    \"\"\"\n",
    "    Build part of the neural network\n",
    "    :param cell: RNN cell\n",
    "    :param rnn_size: Size of rnns\n",
    "    :param input_data: Input data\n",
    "    :param vocab_size: Vocabulary size\n",
    "    :param embed_dim: Number of embedding dimensions\n",
    "    :return: Tuple (Logits, FinalState)\n",
    "    \"\"\"\n",
    "    # TODO: Implement Function\n",
    "    \n",
    "    embedded_inputs = get_embed(input_data, vocab_size, rnn_size)\n",
    "    outputs, final_state = build_rnn(cell, embedded_inputs)\n",
    "    \n",
    "    print(final_state.shape)\n",
    "    logits = tf.contrib.layers.fully_connected(outputs, vocab_size, \n",
    "                                              activation_fn=None, \n",
    "                                              weights_initializer=tf.truncated_normal_initializer(stddev=0.1), \n",
    "                                              biases_initializer=tf.zeros_initializer())\n",
    "        \n",
    "    return logits, final_state\n",
    "    \n",
    "    #return embedded_inputs\n",
    "\n",
    "\"\"\"\n",
    "DON'T MODIFY ANYTHING IN THIS CELL THAT IS BELOW THIS LINE\n",
    "\"\"\"\n",
    "tests.test_build_nn(build_nn)"
   ]
  },
  {
   "cell_type": "markdown",
   "metadata": {
    "deletable": true,
    "editable": true
   },
   "source": [
    "### Batches\n",
    "Implement `get_batches` to create batches of input and targets using `int_text`.  The batches should be a Numpy array with the shape `(number of batches, 2, batch size, sequence length)`. Each batch contains two elements:\n",
    "- The first element is a single batch of **input** with the shape `[batch size, sequence length]`\n",
    "- The second element is a single batch of **targets** with the shape `[batch size, sequence length]`\n",
    "\n",
    "If you can't fill the last batch with enough data, drop the last batch.\n",
    "\n",
    "For exmple, `get_batches([1, 2, 3, 4, 5, 6, 7, 8, 9, 10, 11, 12, 13, 14, 15, 16, 17, 18, 19, 20], 3, 2)` would return a Numpy array of the following:\n",
    "```\n",
    "[\n",
    "  # First Batch\n",
    "  [\n",
    "    # Batch of Input\n",
    "    [[ 1  2], [ 7  8], [13 14]]\n",
    "    # Batch of targets\n",
    "    [[ 2  3], [ 8  9], [14 15]]\n",
    "  ]\n",
    "\n",
    "  # Second Batch\n",
    "  [\n",
    "    # Batch of Input\n",
    "    [[ 3  4], [ 9 10], [15 16]]\n",
    "    # Batch of targets\n",
    "    [[ 4  5], [10 11], [16 17]]\n",
    "  ]\n",
    "\n",
    "  # Third Batch\n",
    "  [\n",
    "    # Batch of Input\n",
    "    [[ 5  6], [11 12], [17 18]]\n",
    "    # Batch of targets\n",
    "    [[ 6  7], [12 13], [18  1]]\n",
    "  ]\n",
    "]\n",
    "```\n",
    "\n",
    "Notice that the last target value in the last batch is the first input value of the first batch. In this case, `1`. This is a common technique used when creating sequence batches, although it is rather unintuitive."
   ]
  },
  {
   "cell_type": "code",
   "execution_count": 13,
   "metadata": {
    "ExecuteTime": {
     "end_time": "2018-02-03T14:20:54.171461Z",
     "start_time": "2018-02-03T14:20:54.134566Z"
    },
    "collapsed": false,
    "deletable": true,
    "editable": true
   },
   "outputs": [
    {
     "name": "stdout",
     "output_type": "stream",
     "text": [
      "Int_Text: 5000\n",
      "Seq_length : 5\n",
      "Batch_size : 128\n",
      "Tests Passed\n"
     ]
    }
   ],
   "source": [
    "def get_batches(int_text, batch_size, seq_length):\n",
    "    \"\"\"\n",
    "    Return batches of input and target\n",
    "    :param int_text: Text with the words replaced by their ids\n",
    "    :param batch_size: The size of batch\n",
    "    :param seq_length: The length of sequence\n",
    "    :return: Batches as a Numpy array\n",
    "    \"\"\"\n",
    "    # TODO: Implement Function\n",
    "    \n",
    "    print(\"Int_Text: {}\".format(len(int_text)))\n",
    "    print(\"Seq_length : {}\".format(seq_length))\n",
    "    print(\"Batch_size : {}\".format(batch_size))\n",
    "    \n",
    "    words_per_batch = batch_size*seq_length\n",
    "    num_batch = len(int_text)//words_per_batch\n",
    "    text = int_text[:num_batch *words_per_batch] # remove excess words\n",
    "    text_y = text[1:] + [text[0]] # shift text by 1 for target\n",
    "\n",
    "    batches = np.zeros((num_batch, 2, batch_size, seq_length)) # create array with output shape\n",
    "    count = 0\n",
    "    for i in range(0, len(text), num_batch*seq_length):\n",
    "        # divide text into sequences of sentences\n",
    "        sequence_x = text[i:i+num_batch*seq_length]\n",
    "        sequence_y = text_y[i:i+num_batch*seq_length]\n",
    "        sample_count = 0\n",
    "        for ii in range(0, len(sequence_x), seq_length):\n",
    "            # divide a sentence into samples of seq_length\n",
    "            sample_x = sequence_x[ii:ii+seq_length]\n",
    "            sample_y = sequence_y[ii:ii+seq_length]\n",
    "            # distribute samples over all batches\n",
    "            batches[sample_count][0][count] = sample_x\n",
    "            batches[sample_count][1][count] = sample_y\n",
    "            sample_count += 1\n",
    "        count += 1\n",
    "    return np.array(batches)\n",
    "\n",
    "\n",
    "\n",
    "\"\"\"\n",
    "DON'T MODIFY ANYTHING IN THIS CELL THAT IS BELOW THIS LINE\n",
    "\"\"\"\n",
    "tests.test_get_batches(get_batches)"
   ]
  },
  {
   "cell_type": "markdown",
   "metadata": {
    "deletable": true,
    "editable": true
   },
   "source": [
    "## Neural Network Training\n",
    "### Hyperparameters\n",
    "Tune the following parameters:\n",
    "\n",
    "- Set `num_epochs` to the number of epochs.\n",
    "- Set `batch_size` to the batch size.\n",
    "- Set `rnn_size` to the size of the RNNs.\n",
    "- Set `embed_dim` to the size of the embedding.\n",
    "- Set `seq_length` to the length of sequence.\n",
    "- Set `learning_rate` to the learning rate.\n",
    "- Set `show_every_n_batches` to the number of batches the neural network should print progress."
   ]
  },
  {
   "cell_type": "code",
   "execution_count": 14,
   "metadata": {
    "ExecuteTime": {
     "end_time": "2018-02-03T14:20:55.738301Z",
     "start_time": "2018-02-03T14:20:55.731188Z"
    },
    "collapsed": true,
    "deletable": true,
    "editable": true
   },
   "outputs": [],
   "source": [
    "# Number of Epochs\n",
    "num_epochs = 100\n",
    "# Batch Size\n",
    "batch_size = 512\n",
    "# RNN Size\n",
    "rnn_size = 300\n",
    "# Embedding Dimension Size\n",
    "embed_dim = 300\n",
    "# Sequence Length\n",
    "seq_length = 20\n",
    "# Learning Rate\n",
    "learning_rate = 0.01\n",
    "# Show stats for every n number of batches\n",
    "show_every_n_batches = 1\n",
    "\n",
    "\"\"\"\n",
    "DON'T MODIFY ANYTHING IN THIS CELL THAT IS BELOW THIS LINE\n",
    "\"\"\"\n",
    "save_dir = './save'"
   ]
  },
  {
   "cell_type": "markdown",
   "metadata": {
    "deletable": true,
    "editable": true
   },
   "source": [
    "### Build the Graph\n",
    "Build the graph using the neural network you implemented."
   ]
  },
  {
   "cell_type": "code",
   "execution_count": 15,
   "metadata": {
    "ExecuteTime": {
     "end_time": "2018-02-03T14:21:00.778961Z",
     "start_time": "2018-02-03T14:21:00.235956Z"
    },
    "collapsed": false,
    "deletable": true,
    "editable": true
   },
   "outputs": [
    {
     "name": "stdout",
     "output_type": "stream",
     "text": [
      "(1, 2, ?, 300)\n",
      "(1, 2, ?, 300)\n"
     ]
    }
   ],
   "source": [
    "\"\"\"\n",
    "DON'T MODIFY ANYTHING IN THIS CELL\n",
    "\"\"\"\n",
    "from tensorflow.contrib import seq2seq\n",
    "\n",
    "train_graph = tf.Graph()\n",
    "with train_graph.as_default():\n",
    "    vocab_size = len(int_to_vocab)\n",
    "    input_text, targets, lr = get_inputs()\n",
    "    input_data_shape = tf.shape(input_text)\n",
    "    cell, initial_state = get_init_cell(input_data_shape[0], rnn_size)\n",
    "    logits, final_state = build_nn(cell, rnn_size, input_text, vocab_size, embed_dim)\n",
    "\n",
    "    # Probabilities for generating words\n",
    "    probs = tf.nn.softmax(logits, name='probs')\n",
    "\n",
    "    # Loss function\n",
    "    cost = seq2seq.sequence_loss(\n",
    "        logits,\n",
    "        targets,\n",
    "        tf.ones([input_data_shape[0], input_data_shape[1]]))\n",
    "\n",
    "    # Optimizer\n",
    "    optimizer = tf.train.AdamOptimizer(lr)\n",
    "\n",
    "    # Gradient Clipping\n",
    "    gradients = optimizer.compute_gradients(cost)\n",
    "    capped_gradients = [(tf.clip_by_value(grad, -1., 1.), var) for grad, var in gradients if grad is not None]\n",
    "    train_op = optimizer.apply_gradients(capped_gradients)"
   ]
  },
  {
   "cell_type": "markdown",
   "metadata": {
    "deletable": true,
    "editable": true
   },
   "source": [
    "## Train\n",
    "Train the neural network on the preprocessed data.  If you have a hard time getting a good loss, check the [forums](https://discussions.udacity.com/) to see if anyone is having the same problem."
   ]
  },
  {
   "cell_type": "code",
   "execution_count": 16,
   "metadata": {
    "ExecuteTime": {
     "end_time": "2018-02-03T15:26:07.845711Z",
     "start_time": "2018-02-03T14:21:02.210030Z"
    },
    "collapsed": false,
    "deletable": true,
    "editable": true,
    "scrolled": false
   },
   "outputs": [
    {
     "name": "stdout",
     "output_type": "stream",
     "text": [
      "Int_Text: 69101\n",
      "Seq_length : 20\n",
      "Batch_size : 512\n",
      "Epoch   0 Batch    0/6   train_loss = 8.822\n",
      "Epoch   0 Batch    1/6   train_loss = 8.588\n",
      "Epoch   0 Batch    2/6   train_loss = 7.006\n",
      "Epoch   0 Batch    3/6   train_loss = 6.636\n",
      "Epoch   0 Batch    4/6   train_loss = 6.440\n",
      "Epoch   0 Batch    5/6   train_loss = 6.330\n",
      "Epoch   1 Batch    0/6   train_loss = 6.201\n",
      "Epoch   1 Batch    1/6   train_loss = 6.166\n",
      "Epoch   1 Batch    2/6   train_loss = 5.875\n",
      "Epoch   1 Batch    3/6   train_loss = 5.721\n",
      "Epoch   1 Batch    4/6   train_loss = 5.673\n",
      "Epoch   1 Batch    5/6   train_loss = 5.626\n",
      "Epoch   2 Batch    0/6   train_loss = 5.584\n",
      "Epoch   2 Batch    1/6   train_loss = 5.549\n",
      "Epoch   2 Batch    2/6   train_loss = 5.466\n",
      "Epoch   2 Batch    3/6   train_loss = 5.424\n",
      "Epoch   2 Batch    4/6   train_loss = 5.321\n",
      "Epoch   2 Batch    5/6   train_loss = 5.210\n",
      "Epoch   3 Batch    0/6   train_loss = 5.162\n",
      "Epoch   3 Batch    1/6   train_loss = 5.156\n",
      "Epoch   3 Batch    2/6   train_loss = 5.072\n",
      "Epoch   3 Batch    3/6   train_loss = 5.080\n",
      "Epoch   3 Batch    4/6   train_loss = 4.988\n",
      "Epoch   3 Batch    5/6   train_loss = 4.907\n",
      "Epoch   4 Batch    0/6   train_loss = 4.852\n",
      "Epoch   4 Batch    1/6   train_loss = 4.850\n",
      "Epoch   4 Batch    2/6   train_loss = 4.781\n",
      "Epoch   4 Batch    3/6   train_loss = 4.788\n",
      "Epoch   4 Batch    4/6   train_loss = 4.699\n",
      "Epoch   4 Batch    5/6   train_loss = 4.635\n",
      "Epoch   5 Batch    0/6   train_loss = 4.588\n",
      "Epoch   5 Batch    1/6   train_loss = 4.591\n",
      "Epoch   5 Batch    2/6   train_loss = 4.526\n",
      "Epoch   5 Batch    3/6   train_loss = 4.527\n",
      "Epoch   5 Batch    4/6   train_loss = 4.453\n",
      "Epoch   5 Batch    5/6   train_loss = 4.395\n",
      "Epoch   6 Batch    0/6   train_loss = 4.349\n",
      "Epoch   6 Batch    1/6   train_loss = 4.349\n",
      "Epoch   6 Batch    2/6   train_loss = 4.294\n",
      "Epoch   6 Batch    3/6   train_loss = 4.295\n",
      "Epoch   6 Batch    4/6   train_loss = 4.221\n",
      "Epoch   6 Batch    5/6   train_loss = 4.170\n",
      "Epoch   7 Batch    0/6   train_loss = 4.130\n",
      "Epoch   7 Batch    1/6   train_loss = 4.118\n",
      "Epoch   7 Batch    2/6   train_loss = 4.078\n",
      "Epoch   7 Batch    3/6   train_loss = 4.080\n",
      "Epoch   7 Batch    4/6   train_loss = 4.001\n",
      "Epoch   7 Batch    5/6   train_loss = 3.954\n",
      "Epoch   8 Batch    0/6   train_loss = 3.931\n",
      "Epoch   8 Batch    1/6   train_loss = 3.902\n",
      "Epoch   8 Batch    2/6   train_loss = 3.877\n",
      "Epoch   8 Batch    3/6   train_loss = 3.888\n",
      "Epoch   8 Batch    4/6   train_loss = 3.810\n",
      "Epoch   8 Batch    5/6   train_loss = 3.740\n",
      "Epoch   9 Batch    0/6   train_loss = 3.732\n",
      "Epoch   9 Batch    1/6   train_loss = 3.711\n",
      "Epoch   9 Batch    2/6   train_loss = 3.683\n",
      "Epoch   9 Batch    3/6   train_loss = 3.686\n",
      "Epoch   9 Batch    4/6   train_loss = 3.624\n",
      "Epoch   9 Batch    5/6   train_loss = 3.563\n",
      "Epoch  10 Batch    0/6   train_loss = 3.550\n",
      "Epoch  10 Batch    1/6   train_loss = 3.502\n",
      "Epoch  10 Batch    2/6   train_loss = 3.517\n",
      "Epoch  10 Batch    3/6   train_loss = 3.513\n",
      "Epoch  10 Batch    4/6   train_loss = 3.438\n",
      "Epoch  10 Batch    5/6   train_loss = 3.391\n",
      "Epoch  11 Batch    0/6   train_loss = 3.387\n",
      "Epoch  11 Batch    1/6   train_loss = 3.326\n",
      "Epoch  11 Batch    2/6   train_loss = 3.326\n",
      "Epoch  11 Batch    3/6   train_loss = 3.365\n",
      "Epoch  11 Batch    4/6   train_loss = 3.301\n",
      "Epoch  11 Batch    5/6   train_loss = 3.225\n",
      "Epoch  12 Batch    0/6   train_loss = 3.239\n",
      "Epoch  12 Batch    1/6   train_loss = 3.175\n",
      "Epoch  12 Batch    2/6   train_loss = 3.177\n",
      "Epoch  12 Batch    3/6   train_loss = 3.180\n",
      "Epoch  12 Batch    4/6   train_loss = 3.179\n",
      "Epoch  12 Batch    5/6   train_loss = 3.122\n",
      "Epoch  13 Batch    0/6   train_loss = 3.098\n",
      "Epoch  13 Batch    1/6   train_loss = 3.005\n",
      "Epoch  13 Batch    2/6   train_loss = 3.079\n",
      "Epoch  13 Batch    3/6   train_loss = 3.098\n",
      "Epoch  13 Batch    4/6   train_loss = 2.996\n",
      "Epoch  13 Batch    5/6   train_loss = 2.948\n",
      "Epoch  14 Batch    0/6   train_loss = 2.988\n",
      "Epoch  14 Batch    1/6   train_loss = 2.912\n",
      "Epoch  14 Batch    2/6   train_loss = 2.910\n",
      "Epoch  14 Batch    3/6   train_loss = 2.881\n",
      "Epoch  14 Batch    4/6   train_loss = 2.869\n",
      "Epoch  14 Batch    5/6   train_loss = 2.830\n",
      "Epoch  15 Batch    0/6   train_loss = 2.834\n",
      "Epoch  15 Batch    1/6   train_loss = 2.719\n",
      "Epoch  15 Batch    2/6   train_loss = 2.732\n",
      "Epoch  15 Batch    3/6   train_loss = 2.752\n",
      "Epoch  15 Batch    4/6   train_loss = 2.730\n",
      "Epoch  15 Batch    5/6   train_loss = 2.664\n",
      "Epoch  16 Batch    0/6   train_loss = 2.668\n",
      "Epoch  16 Batch    1/6   train_loss = 2.604\n",
      "Epoch  16 Batch    2/6   train_loss = 2.627\n",
      "Epoch  16 Batch    3/6   train_loss = 2.589\n",
      "Epoch  16 Batch    4/6   train_loss = 2.573\n",
      "Epoch  16 Batch    5/6   train_loss = 2.556\n",
      "Epoch  17 Batch    0/6   train_loss = 2.552\n",
      "Epoch  17 Batch    1/6   train_loss = 2.453\n",
      "Epoch  17 Batch    2/6   train_loss = 2.488\n",
      "Epoch  17 Batch    3/6   train_loss = 2.490\n",
      "Epoch  17 Batch    4/6   train_loss = 2.472\n",
      "Epoch  17 Batch    5/6   train_loss = 2.406\n",
      "Epoch  18 Batch    0/6   train_loss = 2.426\n",
      "Epoch  18 Batch    1/6   train_loss = 2.363\n",
      "Epoch  18 Batch    2/6   train_loss = 2.384\n",
      "Epoch  18 Batch    3/6   train_loss = 2.357\n",
      "Epoch  18 Batch    4/6   train_loss = 2.359\n",
      "Epoch  18 Batch    5/6   train_loss = 2.333\n",
      "Epoch  19 Batch    0/6   train_loss = 2.318\n",
      "Epoch  19 Batch    1/6   train_loss = 2.225\n",
      "Epoch  19 Batch    2/6   train_loss = 2.291\n",
      "Epoch  19 Batch    3/6   train_loss = 2.280\n",
      "Epoch  19 Batch    4/6   train_loss = 2.230\n",
      "Epoch  19 Batch    5/6   train_loss = 2.196\n",
      "Epoch  20 Batch    0/6   train_loss = 2.238\n",
      "Epoch  20 Batch    1/6   train_loss = 2.143\n",
      "Epoch  20 Batch    2/6   train_loss = 2.146\n",
      "Epoch  20 Batch    3/6   train_loss = 2.134\n",
      "Epoch  20 Batch    4/6   train_loss = 2.153\n",
      "Epoch  20 Batch    5/6   train_loss = 2.107\n",
      "Epoch  21 Batch    0/6   train_loss = 2.092\n",
      "Epoch  21 Batch    1/6   train_loss = 2.010\n",
      "Epoch  21 Batch    2/6   train_loss = 2.058\n",
      "Epoch  21 Batch    3/6   train_loss = 2.042\n",
      "Epoch  21 Batch    4/6   train_loss = 2.029\n",
      "Epoch  21 Batch    5/6   train_loss = 1.981\n",
      "Epoch  22 Batch    0/6   train_loss = 1.988\n",
      "Epoch  22 Batch    1/6   train_loss = 1.926\n",
      "Epoch  22 Batch    2/6   train_loss = 1.948\n",
      "Epoch  22 Batch    3/6   train_loss = 1.926\n",
      "Epoch  22 Batch    4/6   train_loss = 1.923\n",
      "Epoch  22 Batch    5/6   train_loss = 1.900\n",
      "Epoch  23 Batch    0/6   train_loss = 1.898\n",
      "Epoch  23 Batch    1/6   train_loss = 1.812\n",
      "Epoch  23 Batch    2/6   train_loss = 1.852\n",
      "Epoch  23 Batch    3/6   train_loss = 1.851\n",
      "Epoch  23 Batch    4/6   train_loss = 1.835\n",
      "Epoch  23 Batch    5/6   train_loss = 1.812\n",
      "Epoch  24 Batch    0/6   train_loss = 1.810\n",
      "Epoch  24 Batch    1/6   train_loss = 1.733\n",
      "Epoch  24 Batch    2/6   train_loss = 1.766\n",
      "Epoch  24 Batch    3/6   train_loss = 1.768\n",
      "Epoch  24 Batch    4/6   train_loss = 1.756\n",
      "Epoch  24 Batch    5/6   train_loss = 1.722\n",
      "Epoch  25 Batch    0/6   train_loss = 1.744\n",
      "Epoch  25 Batch    1/6   train_loss = 1.661\n",
      "Epoch  25 Batch    2/6   train_loss = 1.667\n",
      "Epoch  25 Batch    3/6   train_loss = 1.686\n",
      "Epoch  25 Batch    4/6   train_loss = 1.699\n",
      "Epoch  25 Batch    5/6   train_loss = 1.639\n",
      "Epoch  26 Batch    0/6   train_loss = 1.653\n",
      "Epoch  26 Batch    1/6   train_loss = 1.618\n",
      "Epoch  26 Batch    2/6   train_loss = 1.629\n",
      "Epoch  26 Batch    3/6   train_loss = 1.585\n",
      "Epoch  26 Batch    4/6   train_loss = 1.613\n",
      "Epoch  26 Batch    5/6   train_loss = 1.642\n",
      "Epoch  27 Batch    0/6   train_loss = 1.610\n",
      "Epoch  27 Batch    1/6   train_loss = 1.511\n",
      "Epoch  27 Batch    2/6   train_loss = 1.553\n",
      "Epoch  27 Batch    3/6   train_loss = 1.591\n",
      "Epoch  27 Batch    4/6   train_loss = 1.574\n",
      "Epoch  27 Batch    5/6   train_loss = 1.519\n",
      "Epoch  28 Batch    0/6   train_loss = 1.524\n",
      "Epoch  28 Batch    1/6   train_loss = 1.483\n",
      "Epoch  28 Batch    2/6   train_loss = 1.498\n",
      "Epoch  28 Batch    3/6   train_loss = 1.487\n",
      "Epoch  28 Batch    4/6   train_loss = 1.474\n",
      "Epoch  28 Batch    5/6   train_loss = 1.455\n",
      "Epoch  29 Batch    0/6   train_loss = 1.463\n",
      "Epoch  29 Batch    1/6   train_loss = 1.398\n",
      "Epoch  29 Batch    2/6   train_loss = 1.408\n",
      "Epoch  29 Batch    3/6   train_loss = 1.405\n",
      "Epoch  29 Batch    4/6   train_loss = 1.410\n",
      "Epoch  29 Batch    5/6   train_loss = 1.372\n",
      "Epoch  30 Batch    0/6   train_loss = 1.380\n",
      "Epoch  30 Batch    1/6   train_loss = 1.335\n",
      "Epoch  30 Batch    2/6   train_loss = 1.337\n",
      "Epoch  30 Batch    3/6   train_loss = 1.321\n",
      "Epoch  30 Batch    4/6   train_loss = 1.326\n",
      "Epoch  30 Batch    5/6   train_loss = 1.318\n",
      "Epoch  31 Batch    0/6   train_loss = 1.311\n",
      "Epoch  31 Batch    1/6   train_loss = 1.238\n",
      "Epoch  31 Batch    2/6   train_loss = 1.258\n",
      "Epoch  31 Batch    3/6   train_loss = 1.268\n",
      "Epoch  31 Batch    4/6   train_loss = 1.268\n",
      "Epoch  31 Batch    5/6   train_loss = 1.240\n",
      "Epoch  32 Batch    0/6   train_loss = 1.243\n",
      "Epoch  32 Batch    1/6   train_loss = 1.184\n",
      "Epoch  32 Batch    2/6   train_loss = 1.198\n",
      "Epoch  32 Batch    3/6   train_loss = 1.207\n",
      "Epoch  32 Batch    4/6   train_loss = 1.201\n",
      "Epoch  32 Batch    5/6   train_loss = 1.180\n",
      "Epoch  33 Batch    0/6   train_loss = 1.183\n",
      "Epoch  33 Batch    1/6   train_loss = 1.133\n",
      "Epoch  33 Batch    2/6   train_loss = 1.140\n",
      "Epoch  33 Batch    3/6   train_loss = 1.140\n",
      "Epoch  33 Batch    4/6   train_loss = 1.145\n",
      "Epoch  33 Batch    5/6   train_loss = 1.132\n",
      "Epoch  34 Batch    0/6   train_loss = 1.140\n",
      "Epoch  34 Batch    1/6   train_loss = 1.084\n",
      "Epoch  34 Batch    2/6   train_loss = 1.094\n",
      "Epoch  34 Batch    3/6   train_loss = 1.084\n",
      "Epoch  34 Batch    4/6   train_loss = 1.095\n",
      "Epoch  34 Batch    5/6   train_loss = 1.091\n",
      "Epoch  35 Batch    0/6   train_loss = 1.082\n",
      "Epoch  35 Batch    1/6   train_loss = 1.028\n",
      "Epoch  35 Batch    2/6   train_loss = 1.054\n",
      "Epoch  35 Batch    3/6   train_loss = 1.060\n",
      "Epoch  35 Batch    4/6   train_loss = 1.045\n",
      "Epoch  35 Batch    5/6   train_loss = 1.022\n",
      "Epoch  36 Batch    0/6   train_loss = 1.043\n",
      "Epoch  36 Batch    1/6   train_loss = 1.001\n",
      "Epoch  36 Batch    2/6   train_loss = 0.999\n",
      "Epoch  36 Batch    3/6   train_loss = 0.998\n",
      "Epoch  36 Batch    4/6   train_loss = 1.012\n",
      "Epoch  36 Batch    5/6   train_loss = 0.992\n",
      "Epoch  37 Batch    0/6   train_loss = 0.984\n",
      "Epoch  37 Batch    1/6   train_loss = 0.940\n",
      "Epoch  37 Batch    2/6   train_loss = 0.957\n",
      "Epoch  37 Batch    3/6   train_loss = 0.952\n",
      "Epoch  37 Batch    4/6   train_loss = 0.943\n",
      "Epoch  37 Batch    5/6   train_loss = 0.938\n",
      "Epoch  38 Batch    0/6   train_loss = 0.942\n",
      "Epoch  38 Batch    1/6   train_loss = 0.891\n",
      "Epoch  38 Batch    2/6   train_loss = 0.894\n",
      "Epoch  38 Batch    3/6   train_loss = 0.904\n",
      "Epoch  38 Batch    4/6   train_loss = 0.899\n",
      "Epoch  38 Batch    5/6   train_loss = 0.878\n",
      "Epoch  39 Batch    0/6   train_loss = 0.883\n",
      "Epoch  39 Batch    1/6   train_loss = 0.848\n",
      "Epoch  39 Batch    2/6   train_loss = 0.857\n",
      "Epoch  39 Batch    3/6   train_loss = 0.839\n",
      "Epoch  39 Batch    4/6   train_loss = 0.841\n",
      "Epoch  39 Batch    5/6   train_loss = 0.847\n",
      "Epoch  40 Batch    0/6   train_loss = 0.838\n",
      "Epoch  40 Batch    1/6   train_loss = 0.782\n",
      "Epoch  40 Batch    2/6   train_loss = 0.800\n",
      "Epoch  40 Batch    3/6   train_loss = 0.814\n",
      "Epoch  40 Batch    4/6   train_loss = 0.802\n",
      "Epoch  40 Batch    5/6   train_loss = 0.779\n",
      "Epoch  41 Batch    0/6   train_loss = 0.785\n",
      "Epoch  41 Batch    1/6   train_loss = 0.760\n",
      "Epoch  41 Batch    2/6   train_loss = 0.766\n",
      "Epoch  41 Batch    3/6   train_loss = 0.750\n",
      "Epoch  41 Batch    4/6   train_loss = 0.750\n",
      "Epoch  41 Batch    5/6   train_loss = 0.755\n",
      "Epoch  42 Batch    0/6   train_loss = 0.752\n",
      "Epoch  42 Batch    1/6   train_loss = 0.705\n",
      "Epoch  42 Batch    2/6   train_loss = 0.719\n",
      "Epoch  42 Batch    3/6   train_loss = 0.727\n",
      "Epoch  42 Batch    4/6   train_loss = 0.714\n",
      "Epoch  42 Batch    5/6   train_loss = 0.712\n",
      "Epoch  43 Batch    0/6   train_loss = 0.722\n",
      "Epoch  43 Batch    1/6   train_loss = 0.676\n",
      "Epoch  43 Batch    2/6   train_loss = 0.689\n",
      "Epoch  43 Batch    3/6   train_loss = 0.695\n",
      "Epoch  43 Batch    4/6   train_loss = 0.684\n",
      "Epoch  43 Batch    5/6   train_loss = 0.682\n",
      "Epoch  44 Batch    0/6   train_loss = 0.695\n",
      "Epoch  44 Batch    1/6   train_loss = 0.661\n",
      "Epoch  44 Batch    2/6   train_loss = 0.656\n",
      "Epoch  44 Batch    3/6   train_loss = 0.663\n",
      "Epoch  44 Batch    4/6   train_loss = 0.677\n",
      "Epoch  44 Batch    5/6   train_loss = 0.664\n",
      "Epoch  45 Batch    0/6   train_loss = 0.645\n",
      "Epoch  45 Batch    1/6   train_loss = 0.637\n",
      "Epoch  45 Batch    2/6   train_loss = 0.664\n",
      "Epoch  45 Batch    3/6   train_loss = 0.648\n",
      "Epoch  45 Batch    4/6   train_loss = 0.621\n",
      "Epoch  45 Batch    5/6   train_loss = 0.643\n",
      "Epoch  46 Batch    0/6   train_loss = 0.670\n",
      "Epoch  46 Batch    1/6   train_loss = 0.608\n",
      "Epoch  46 Batch    2/6   train_loss = 0.605\n",
      "Epoch  46 Batch    3/6   train_loss = 0.624\n",
      "Epoch  46 Batch    4/6   train_loss = 0.642\n",
      "Epoch  46 Batch    5/6   train_loss = 0.619\n",
      "Epoch  47 Batch    0/6   train_loss = 0.600\n",
      "Epoch  47 Batch    1/6   train_loss = 0.597\n",
      "Epoch  47 Batch    2/6   train_loss = 0.636\n",
      "Epoch  47 Batch    3/6   train_loss = 0.597\n",
      "Epoch  47 Batch    4/6   train_loss = 0.578\n",
      "Epoch  47 Batch    5/6   train_loss = 0.625\n",
      "Epoch  48 Batch    0/6   train_loss = 0.626\n",
      "Epoch  48 Batch    1/6   train_loss = 0.559\n",
      "Epoch  48 Batch    2/6   train_loss = 0.592\n",
      "Epoch  48 Batch    3/6   train_loss = 0.616\n",
      "Epoch  48 Batch    4/6   train_loss = 0.593\n",
      "Epoch  48 Batch    5/6   train_loss = 0.582\n",
      "Epoch  49 Batch    0/6   train_loss = 0.610\n",
      "Epoch  49 Batch    1/6   train_loss = 0.582\n",
      "Epoch  49 Batch    2/6   train_loss = 0.572\n",
      "Epoch  49 Batch    3/6   train_loss = 0.595\n",
      "Epoch  49 Batch    4/6   train_loss = 0.609\n",
      "Epoch  49 Batch    5/6   train_loss = 0.578\n",
      "Epoch  50 Batch    0/6   train_loss = 0.581\n",
      "Epoch  50 Batch    1/6   train_loss = 0.590\n",
      "Epoch  50 Batch    2/6   train_loss = 0.592\n",
      "Epoch  50 Batch    3/6   train_loss = 0.561\n",
      "Epoch  50 Batch    4/6   train_loss = 0.585\n",
      "Epoch  50 Batch    5/6   train_loss = 0.613\n",
      "Epoch  51 Batch    0/6   train_loss = 0.574\n",
      "Epoch  51 Batch    1/6   train_loss = 0.539\n",
      "Epoch  51 Batch    2/6   train_loss = 0.590\n",
      "Epoch  51 Batch    3/6   train_loss = 0.611\n",
      "Epoch  51 Batch    4/6   train_loss = 0.546\n",
      "Epoch  51 Batch    5/6   train_loss = 0.543\n",
      "Epoch  52 Batch    0/6   train_loss = 0.590\n",
      "Epoch  52 Batch    1/6   train_loss = 0.559\n",
      "Epoch  52 Batch    2/6   train_loss = 0.524\n",
      "Epoch  52 Batch    3/6   train_loss = 0.530\n",
      "Epoch  52 Batch    4/6   train_loss = 0.547\n",
      "Epoch  52 Batch    5/6   train_loss = 0.545\n",
      "Epoch  53 Batch    0/6   train_loss = 0.518\n",
      "Epoch  53 Batch    1/6   train_loss = 0.491\n",
      "Epoch  53 Batch    2/6   train_loss = 0.516\n",
      "Epoch  53 Batch    3/6   train_loss = 0.513\n",
      "Epoch  53 Batch    4/6   train_loss = 0.491\n",
      "Epoch  53 Batch    5/6   train_loss = 0.493\n",
      "Epoch  54 Batch    0/6   train_loss = 0.493\n",
      "Epoch  54 Batch    1/6   train_loss = 0.458\n",
      "Epoch  54 Batch    2/6   train_loss = 0.472\n",
      "Epoch  54 Batch    3/6   train_loss = 0.476\n",
      "Epoch  54 Batch    4/6   train_loss = 0.457\n",
      "Epoch  54 Batch    5/6   train_loss = 0.448\n",
      "Epoch  55 Batch    0/6   train_loss = 0.456\n",
      "Epoch  55 Batch    1/6   train_loss = 0.434\n",
      "Epoch  55 Batch    2/6   train_loss = 0.436\n",
      "Epoch  55 Batch    3/6   train_loss = 0.430\n",
      "Epoch  55 Batch    4/6   train_loss = 0.423\n",
      "Epoch  55 Batch    5/6   train_loss = 0.432\n",
      "Epoch  56 Batch    0/6   train_loss = 0.420\n",
      "Epoch  56 Batch    1/6   train_loss = 0.396\n",
      "Epoch  56 Batch    2/6   train_loss = 0.410\n",
      "Epoch  56 Batch    3/6   train_loss = 0.414\n",
      "Epoch  56 Batch    4/6   train_loss = 0.392\n",
      "Epoch  56 Batch    5/6   train_loss = 0.396\n",
      "Epoch  57 Batch    0/6   train_loss = 0.404\n",
      "Epoch  57 Batch    1/6   train_loss = 0.377\n",
      "Epoch  57 Batch    2/6   train_loss = 0.378\n",
      "Epoch  57 Batch    3/6   train_loss = 0.388\n",
      "Epoch  57 Batch    4/6   train_loss = 0.388\n",
      "Epoch  57 Batch    5/6   train_loss = 0.376\n",
      "Epoch  58 Batch    0/6   train_loss = 0.372\n",
      "Epoch  58 Batch    1/6   train_loss = 0.367\n",
      "Epoch  58 Batch    2/6   train_loss = 0.376\n",
      "Epoch  58 Batch    3/6   train_loss = 0.366\n",
      "Epoch  58 Batch    4/6   train_loss = 0.362\n",
      "Epoch  58 Batch    5/6   train_loss = 0.372\n",
      "Epoch  59 Batch    0/6   train_loss = 0.369\n",
      "Epoch  59 Batch    1/6   train_loss = 0.343\n",
      "Epoch  59 Batch    2/6   train_loss = 0.361\n",
      "Epoch  59 Batch    3/6   train_loss = 0.373\n",
      "Epoch  59 Batch    4/6   train_loss = 0.348\n",
      "Epoch  59 Batch    5/6   train_loss = 0.345\n",
      "Epoch  60 Batch    0/6   train_loss = 0.363\n",
      "Epoch  60 Batch    1/6   train_loss = 0.347\n",
      "Epoch  60 Batch    2/6   train_loss = 0.342\n",
      "Epoch  60 Batch    3/6   train_loss = 0.344\n",
      "Epoch  60 Batch    4/6   train_loss = 0.350\n",
      "Epoch  60 Batch    5/6   train_loss = 0.355\n",
      "Epoch  61 Batch    0/6   train_loss = 0.338\n",
      "Epoch  61 Batch    1/6   train_loss = 0.320\n",
      "Epoch  61 Batch    2/6   train_loss = 0.351\n",
      "Epoch  61 Batch    3/6   train_loss = 0.348\n",
      "Epoch  61 Batch    4/6   train_loss = 0.321\n",
      "Epoch  61 Batch    5/6   train_loss = 0.330\n",
      "Epoch  62 Batch    0/6   train_loss = 0.348\n",
      "Epoch  62 Batch    1/6   train_loss = 0.322\n",
      "Epoch  62 Batch    2/6   train_loss = 0.314\n",
      "Epoch  62 Batch    3/6   train_loss = 0.326\n",
      "Epoch  62 Batch    4/6   train_loss = 0.328\n",
      "Epoch  62 Batch    5/6   train_loss = 0.321\n",
      "Epoch  63 Batch    0/6   train_loss = 0.309\n",
      "Epoch  63 Batch    1/6   train_loss = 0.303\n",
      "Epoch  63 Batch    2/6   train_loss = 0.324\n",
      "Epoch  63 Batch    3/6   train_loss = 0.317\n",
      "Epoch  63 Batch    4/6   train_loss = 0.297\n",
      "Epoch  63 Batch    5/6   train_loss = 0.302\n",
      "Epoch  64 Batch    0/6   train_loss = 0.318\n",
      "Epoch  64 Batch    1/6   train_loss = 0.291\n",
      "Epoch  64 Batch    2/6   train_loss = 0.291\n",
      "Epoch  64 Batch    3/6   train_loss = 0.299\n",
      "Epoch  64 Batch    4/6   train_loss = 0.295\n",
      "Epoch  64 Batch    5/6   train_loss = 0.290\n",
      "Epoch  65 Batch    0/6   train_loss = 0.289\n",
      "Epoch  65 Batch    1/6   train_loss = 0.276\n",
      "Epoch  65 Batch    2/6   train_loss = 0.286\n",
      "Epoch  65 Batch    3/6   train_loss = 0.286\n",
      "Epoch  65 Batch    4/6   train_loss = 0.275\n",
      "Epoch  65 Batch    5/6   train_loss = 0.275\n",
      "Epoch  66 Batch    0/6   train_loss = 0.279\n",
      "Epoch  66 Batch    1/6   train_loss = 0.263\n",
      "Epoch  66 Batch    2/6   train_loss = 0.271\n",
      "Epoch  66 Batch    3/6   train_loss = 0.275\n",
      "Epoch  66 Batch    4/6   train_loss = 0.262\n",
      "Epoch  66 Batch    5/6   train_loss = 0.262\n",
      "Epoch  67 Batch    0/6   train_loss = 0.272\n",
      "Epoch  67 Batch    1/6   train_loss = 0.254\n",
      "Epoch  67 Batch    2/6   train_loss = 0.256\n",
      "Epoch  67 Batch    3/6   train_loss = 0.262\n",
      "Epoch  67 Batch    4/6   train_loss = 0.260\n",
      "Epoch  67 Batch    5/6   train_loss = 0.256\n",
      "Epoch  68 Batch    0/6   train_loss = 0.254\n",
      "Epoch  68 Batch    1/6   train_loss = 0.245\n",
      "Epoch  68 Batch    2/6   train_loss = 0.256\n",
      "Epoch  68 Batch    3/6   train_loss = 0.253\n",
      "Epoch  68 Batch    4/6   train_loss = 0.244\n",
      "Epoch  68 Batch    5/6   train_loss = 0.248\n",
      "Epoch  69 Batch    0/6   train_loss = 0.254\n",
      "Epoch  69 Batch    1/6   train_loss = 0.236\n",
      "Epoch  69 Batch    2/6   train_loss = 0.241\n",
      "Epoch  69 Batch    3/6   train_loss = 0.250\n",
      "Epoch  69 Batch    4/6   train_loss = 0.246\n",
      "Epoch  69 Batch    5/6   train_loss = 0.237\n",
      "Epoch  70 Batch    0/6   train_loss = 0.239\n",
      "Epoch  70 Batch    1/6   train_loss = 0.237\n",
      "Epoch  70 Batch    2/6   train_loss = 0.243\n",
      "Epoch  70 Batch    3/6   train_loss = 0.238\n",
      "Epoch  70 Batch    4/6   train_loss = 0.231\n",
      "Epoch  70 Batch    5/6   train_loss = 0.238\n",
      "Epoch  71 Batch    0/6   train_loss = 0.243\n",
      "Epoch  71 Batch    1/6   train_loss = 0.223\n",
      "Epoch  71 Batch    2/6   train_loss = 0.230\n",
      "Epoch  71 Batch    3/6   train_loss = 0.238\n",
      "Epoch  71 Batch    4/6   train_loss = 0.231\n",
      "Epoch  71 Batch    5/6   train_loss = 0.227\n",
      "Epoch  72 Batch    0/6   train_loss = 0.233\n",
      "Epoch  72 Batch    1/6   train_loss = 0.221\n",
      "Epoch  72 Batch    2/6   train_loss = 0.227\n",
      "Epoch  72 Batch    3/6   train_loss = 0.226\n",
      "Epoch  72 Batch    4/6   train_loss = 0.222\n",
      "Epoch  72 Batch    5/6   train_loss = 0.223\n",
      "Epoch  73 Batch    0/6   train_loss = 0.226\n",
      "Epoch  73 Batch    1/6   train_loss = 0.213\n",
      "Epoch  73 Batch    2/6   train_loss = 0.220\n",
      "Epoch  73 Batch    3/6   train_loss = 0.222\n",
      "Epoch  73 Batch    4/6   train_loss = 0.217\n",
      "Epoch  73 Batch    5/6   train_loss = 0.215\n",
      "Epoch  74 Batch    0/6   train_loss = 0.219\n",
      "Epoch  74 Batch    1/6   train_loss = 0.209\n",
      "Epoch  74 Batch    2/6   train_loss = 0.214\n",
      "Epoch  74 Batch    3/6   train_loss = 0.216\n",
      "Epoch  74 Batch    4/6   train_loss = 0.210\n",
      "Epoch  74 Batch    5/6   train_loss = 0.209\n",
      "Epoch  75 Batch    0/6   train_loss = 0.214\n",
      "Epoch  75 Batch    1/6   train_loss = 0.204\n",
      "Epoch  75 Batch    2/6   train_loss = 0.210\n",
      "Epoch  75 Batch    3/6   train_loss = 0.210\n",
      "Epoch  75 Batch    4/6   train_loss = 0.205\n",
      "Epoch  75 Batch    5/6   train_loss = 0.205\n",
      "Epoch  76 Batch    0/6   train_loss = 0.210\n",
      "Epoch  76 Batch    1/6   train_loss = 0.197\n",
      "Epoch  76 Batch    2/6   train_loss = 0.203\n",
      "Epoch  76 Batch    3/6   train_loss = 0.205\n",
      "Epoch  76 Batch    4/6   train_loss = 0.201\n",
      "Epoch  76 Batch    5/6   train_loss = 0.199\n",
      "Epoch  77 Batch    0/6   train_loss = 0.203\n",
      "Epoch  77 Batch    1/6   train_loss = 0.193\n",
      "Epoch  77 Batch    2/6   train_loss = 0.200\n",
      "Epoch  77 Batch    3/6   train_loss = 0.200\n",
      "Epoch  77 Batch    4/6   train_loss = 0.195\n",
      "Epoch  77 Batch    5/6   train_loss = 0.194\n",
      "Epoch  78 Batch    0/6   train_loss = 0.199\n",
      "Epoch  78 Batch    1/6   train_loss = 0.189\n",
      "Epoch  78 Batch    2/6   train_loss = 0.195\n",
      "Epoch  78 Batch    3/6   train_loss = 0.196\n",
      "Epoch  78 Batch    4/6   train_loss = 0.191\n",
      "Epoch  78 Batch    5/6   train_loss = 0.192\n",
      "Epoch  79 Batch    0/6   train_loss = 0.196\n",
      "Epoch  79 Batch    1/6   train_loss = 0.185\n",
      "Epoch  79 Batch    2/6   train_loss = 0.191\n",
      "Epoch  79 Batch    3/6   train_loss = 0.192\n",
      "Epoch  79 Batch    4/6   train_loss = 0.188\n",
      "Epoch  79 Batch    5/6   train_loss = 0.187\n",
      "Epoch  80 Batch    0/6   train_loss = 0.192\n",
      "Epoch  80 Batch    1/6   train_loss = 0.181\n",
      "Epoch  80 Batch    2/6   train_loss = 0.189\n",
      "Epoch  80 Batch    3/6   train_loss = 0.189\n",
      "Epoch  80 Batch    4/6   train_loss = 0.184\n",
      "Epoch  80 Batch    5/6   train_loss = 0.183\n",
      "Epoch  81 Batch    0/6   train_loss = 0.190\n",
      "Epoch  81 Batch    1/6   train_loss = 0.180\n",
      "Epoch  81 Batch    2/6   train_loss = 0.185\n",
      "Epoch  81 Batch    3/6   train_loss = 0.185\n",
      "Epoch  81 Batch    4/6   train_loss = 0.181\n",
      "Epoch  81 Batch    5/6   train_loss = 0.182\n",
      "Epoch  82 Batch    0/6   train_loss = 0.187\n",
      "Epoch  82 Batch    1/6   train_loss = 0.176\n",
      "Epoch  82 Batch    2/6   train_loss = 0.181\n",
      "Epoch  82 Batch    3/6   train_loss = 0.183\n",
      "Epoch  82 Batch    4/6   train_loss = 0.179\n",
      "Epoch  82 Batch    5/6   train_loss = 0.178\n",
      "Epoch  83 Batch    0/6   train_loss = 0.183\n",
      "Epoch  83 Batch    1/6   train_loss = 0.174\n",
      "Epoch  83 Batch    2/6   train_loss = 0.180\n",
      "Epoch  83 Batch    3/6   train_loss = 0.180\n",
      "Epoch  83 Batch    4/6   train_loss = 0.176\n",
      "Epoch  83 Batch    5/6   train_loss = 0.176\n",
      "Epoch  84 Batch    0/6   train_loss = 0.182\n",
      "Epoch  84 Batch    1/6   train_loss = 0.172\n",
      "Epoch  84 Batch    2/6   train_loss = 0.177\n",
      "Epoch  84 Batch    3/6   train_loss = 0.177\n",
      "Epoch  84 Batch    4/6   train_loss = 0.174\n",
      "Epoch  84 Batch    5/6   train_loss = 0.174\n",
      "Epoch  85 Batch    0/6   train_loss = 0.179\n",
      "Epoch  85 Batch    1/6   train_loss = 0.169\n",
      "Epoch  85 Batch    2/6   train_loss = 0.175\n",
      "Epoch  85 Batch    3/6   train_loss = 0.176\n",
      "Epoch  85 Batch    4/6   train_loss = 0.171\n",
      "Epoch  85 Batch    5/6   train_loss = 0.172\n",
      "Epoch  86 Batch    0/6   train_loss = 0.177\n",
      "Epoch  86 Batch    1/6   train_loss = 0.168\n",
      "Epoch  86 Batch    2/6   train_loss = 0.173\n",
      "Epoch  86 Batch    3/6   train_loss = 0.173\n",
      "Epoch  86 Batch    4/6   train_loss = 0.170\n",
      "Epoch  86 Batch    5/6   train_loss = 0.170\n",
      "Epoch  87 Batch    0/6   train_loss = 0.175\n",
      "Epoch  87 Batch    1/6   train_loss = 0.166\n",
      "Epoch  87 Batch    2/6   train_loss = 0.172\n",
      "Epoch  87 Batch    3/6   train_loss = 0.172\n",
      "Epoch  87 Batch    4/6   train_loss = 0.168\n",
      "Epoch  87 Batch    5/6   train_loss = 0.168\n",
      "Epoch  88 Batch    0/6   train_loss = 0.174\n",
      "Epoch  88 Batch    1/6   train_loss = 0.164\n",
      "Epoch  88 Batch    2/6   train_loss = 0.170\n",
      "Epoch  88 Batch    3/6   train_loss = 0.170\n",
      "Epoch  88 Batch    4/6   train_loss = 0.166\n",
      "Epoch  88 Batch    5/6   train_loss = 0.167\n",
      "Epoch  89 Batch    0/6   train_loss = 0.172\n",
      "Epoch  89 Batch    1/6   train_loss = 0.162\n",
      "Epoch  89 Batch    2/6   train_loss = 0.168\n",
      "Epoch  89 Batch    3/6   train_loss = 0.168\n",
      "Epoch  89 Batch    4/6   train_loss = 0.165\n",
      "Epoch  89 Batch    5/6   train_loss = 0.165\n",
      "Epoch  90 Batch    0/6   train_loss = 0.170\n",
      "Epoch  90 Batch    1/6   train_loss = 0.162\n",
      "Epoch  90 Batch    2/6   train_loss = 0.167\n",
      "Epoch  90 Batch    3/6   train_loss = 0.167\n",
      "Epoch  90 Batch    4/6   train_loss = 0.163\n",
      "Epoch  90 Batch    5/6   train_loss = 0.164\n",
      "Epoch  91 Batch    0/6   train_loss = 0.169\n",
      "Epoch  91 Batch    1/6   train_loss = 0.160\n",
      "Epoch  91 Batch    2/6   train_loss = 0.166\n",
      "Epoch  91 Batch    3/6   train_loss = 0.165\n",
      "Epoch  91 Batch    4/6   train_loss = 0.162\n",
      "Epoch  91 Batch    5/6   train_loss = 0.162\n",
      "Epoch  92 Batch    0/6   train_loss = 0.168\n",
      "Epoch  92 Batch    1/6   train_loss = 0.159\n",
      "Epoch  92 Batch    2/6   train_loss = 0.165\n",
      "Epoch  92 Batch    3/6   train_loss = 0.164\n",
      "Epoch  92 Batch    4/6   train_loss = 0.161\n",
      "Epoch  92 Batch    5/6   train_loss = 0.161\n",
      "Epoch  93 Batch    0/6   train_loss = 0.167\n",
      "Epoch  93 Batch    1/6   train_loss = 0.158\n",
      "Epoch  93 Batch    2/6   train_loss = 0.163\n",
      "Epoch  93 Batch    3/6   train_loss = 0.163\n",
      "Epoch  93 Batch    4/6   train_loss = 0.160\n",
      "Epoch  93 Batch    5/6   train_loss = 0.160\n",
      "Epoch  94 Batch    0/6   train_loss = 0.165\n",
      "Epoch  94 Batch    1/6   train_loss = 0.157\n",
      "Epoch  94 Batch    2/6   train_loss = 0.162\n",
      "Epoch  94 Batch    3/6   train_loss = 0.162\n",
      "Epoch  94 Batch    4/6   train_loss = 0.158\n",
      "Epoch  94 Batch    5/6   train_loss = 0.159\n",
      "Epoch  95 Batch    0/6   train_loss = 0.165\n",
      "Epoch  95 Batch    1/6   train_loss = 0.156\n",
      "Epoch  95 Batch    2/6   train_loss = 0.161\n",
      "Epoch  95 Batch    3/6   train_loss = 0.161\n",
      "Epoch  95 Batch    4/6   train_loss = 0.158\n",
      "Epoch  95 Batch    5/6   train_loss = 0.158\n",
      "Epoch  96 Batch    0/6   train_loss = 0.164\n",
      "Epoch  96 Batch    1/6   train_loss = 0.155\n",
      "Epoch  96 Batch    2/6   train_loss = 0.160\n",
      "Epoch  96 Batch    3/6   train_loss = 0.160\n",
      "Epoch  96 Batch    4/6   train_loss = 0.157\n",
      "Epoch  96 Batch    5/6   train_loss = 0.157\n",
      "Epoch  97 Batch    0/6   train_loss = 0.162\n",
      "Epoch  97 Batch    1/6   train_loss = 0.154\n",
      "Epoch  97 Batch    2/6   train_loss = 0.160\n",
      "Epoch  97 Batch    3/6   train_loss = 0.159\n",
      "Epoch  97 Batch    4/6   train_loss = 0.155\n",
      "Epoch  97 Batch    5/6   train_loss = 0.156\n",
      "Epoch  98 Batch    0/6   train_loss = 0.162\n",
      "Epoch  98 Batch    1/6   train_loss = 0.153\n",
      "Epoch  98 Batch    2/6   train_loss = 0.159\n",
      "Epoch  98 Batch    3/6   train_loss = 0.158\n",
      "Epoch  98 Batch    4/6   train_loss = 0.155\n",
      "Epoch  98 Batch    5/6   train_loss = 0.155\n",
      "Epoch  99 Batch    0/6   train_loss = 0.161\n",
      "Epoch  99 Batch    1/6   train_loss = 0.152\n",
      "Epoch  99 Batch    2/6   train_loss = 0.158\n",
      "Epoch  99 Batch    3/6   train_loss = 0.157\n",
      "Epoch  99 Batch    4/6   train_loss = 0.154\n",
      "Epoch  99 Batch    5/6   train_loss = 0.154\n",
      "Model Trained and Saved\n"
     ]
    }
   ],
   "source": [
    "\"\"\"\n",
    "DON'T MODIFY ANYTHING IN THIS CELL\n",
    "\"\"\"\n",
    "batches = get_batches(int_text, batch_size, seq_length)\n",
    "\n",
    "with tf.Session(graph=train_graph) as sess:\n",
    "    sess.run(tf.global_variables_initializer())\n",
    "\n",
    "    for epoch_i in range(num_epochs):\n",
    "        state = sess.run(initial_state, {input_text: batches[0][0]})\n",
    "\n",
    "        for batch_i, (x, y) in enumerate(batches):\n",
    "            feed = {\n",
    "                input_text: x,\n",
    "                targets: y,\n",
    "                initial_state: state,\n",
    "                lr: learning_rate}\n",
    "            train_loss, state, _ = sess.run([cost, final_state, train_op], feed)\n",
    "\n",
    "            # Show every <show_every_n_batches> batches\n",
    "            if (epoch_i * len(batches) + batch_i) % show_every_n_batches == 0:\n",
    "                print('Epoch {:>3} Batch {:>4}/{}   train_loss = {:.3f}'.format(\n",
    "                    epoch_i,\n",
    "                    batch_i,\n",
    "                    len(batches),\n",
    "                    train_loss))\n",
    "\n",
    "    # Save Model\n",
    "    saver = tf.train.Saver()\n",
    "    saver.save(sess, save_dir)\n",
    "    print('Model Trained and Saved')"
   ]
  },
  {
   "cell_type": "markdown",
   "metadata": {
    "deletable": true,
    "editable": true
   },
   "source": [
    "## Save Parameters\n",
    "Save `seq_length` and `save_dir` for generating a new TV script."
   ]
  },
  {
   "cell_type": "code",
   "execution_count": 17,
   "metadata": {
    "ExecuteTime": {
     "end_time": "2018-02-03T15:32:25.102438Z",
     "start_time": "2018-02-03T15:32:25.098205Z"
    },
    "collapsed": true,
    "deletable": true,
    "editable": true
   },
   "outputs": [],
   "source": [
    "\"\"\"\n",
    "DON'T MODIFY ANYTHING IN THIS CELL\n",
    "\"\"\"\n",
    "# Save parameters for checkpoint\n",
    "helper.save_params((seq_length, save_dir))"
   ]
  },
  {
   "cell_type": "markdown",
   "metadata": {
    "deletable": true,
    "editable": true
   },
   "source": [
    "# Checkpoint"
   ]
  },
  {
   "cell_type": "code",
   "execution_count": 18,
   "metadata": {
    "ExecuteTime": {
     "end_time": "2018-02-03T15:32:27.574026Z",
     "start_time": "2018-02-03T15:32:27.386937Z"
    },
    "collapsed": true,
    "deletable": true,
    "editable": true
   },
   "outputs": [],
   "source": [
    "\"\"\"\n",
    "DON'T MODIFY ANYTHING IN THIS CELL\n",
    "\"\"\"\n",
    "import tensorflow as tf\n",
    "import numpy as np\n",
    "import helper\n",
    "import problem_unittests as tests\n",
    "\n",
    "_, vocab_to_int, int_to_vocab, token_dict = helper.load_preprocess()\n",
    "seq_length, load_dir = helper.load_params()"
   ]
  },
  {
   "cell_type": "markdown",
   "metadata": {
    "deletable": true,
    "editable": true
   },
   "source": [
    "## Implement Generate Functions\n",
    "### Get Tensors\n",
    "Get tensors from `loaded_graph` using the function [`get_tensor_by_name()`](https://www.tensorflow.org/api_docs/python/tf/Graph#get_tensor_by_name).  Get the tensors using the following names:\n",
    "- \"input:0\"\n",
    "- \"initial_state:0\"\n",
    "- \"final_state:0\"\n",
    "- \"probs:0\"\n",
    "\n",
    "Return the tensors in the following tuple `(InputTensor, InitialStateTensor, FinalStateTensor, ProbsTensor)` "
   ]
  },
  {
   "cell_type": "code",
   "execution_count": 19,
   "metadata": {
    "ExecuteTime": {
     "end_time": "2018-02-03T15:33:04.608994Z",
     "start_time": "2018-02-03T15:33:04.597286Z"
    },
    "collapsed": false,
    "deletable": true,
    "editable": true
   },
   "outputs": [
    {
     "name": "stdout",
     "output_type": "stream",
     "text": [
      "Tests Passed\n"
     ]
    }
   ],
   "source": [
    "def get_tensors(loaded_graph):\n",
    "    \"\"\"\n",
    "    Get input, initial state, final state, and probabilities tensor from <loaded_graph>\n",
    "    :param loaded_graph: TensorFlow graph loaded from file\n",
    "    :return: Tuple (InputTensor, InitialStateTensor, FinalStateTensor, ProbsTensor)\n",
    "    \"\"\"\n",
    "    # TODO: Implement Function\n",
    "    \n",
    "    InputTensor = loaded_graph.get_tensor_by_name('input:0')\n",
    "    InitialStateTensor = loaded_graph.get_tensor_by_name('initial_state:0')\n",
    "    FinalStateTensor = loaded_graph.get_tensor_by_name('final_state:0')\n",
    "    ProbsTensor = loaded_graph.get_tensor_by_name('probs:0')\n",
    "    \n",
    "    return (InputTensor, InitialStateTensor, FinalStateTensor, ProbsTensor)\n",
    "\n",
    "\"\"\"\n",
    "DON'T MODIFY ANYTHING IN THIS CELL THAT IS BELOW THIS LINE\n",
    "\"\"\"\n",
    "tests.test_get_tensors(get_tensors)"
   ]
  },
  {
   "cell_type": "markdown",
   "metadata": {
    "deletable": true,
    "editable": true
   },
   "source": [
    "### Choose Word\n",
    "Implement the `pick_word()` function to select the next word using `probabilities`."
   ]
  },
  {
   "cell_type": "code",
   "execution_count": 20,
   "metadata": {
    "ExecuteTime": {
     "end_time": "2018-02-03T15:33:36.915308Z",
     "start_time": "2018-02-03T15:33:36.904716Z"
    },
    "collapsed": false,
    "deletable": true,
    "editable": true
   },
   "outputs": [
    {
     "name": "stdout",
     "output_type": "stream",
     "text": [
      "Tests Passed\n"
     ]
    }
   ],
   "source": [
    "def pick_word(probabilities, int_to_vocab):\n",
    "    \"\"\"\n",
    "    Pick the next word in the generated text\n",
    "    :param probabilities: Probabilites of the next word\n",
    "    :param int_to_vocab: Dictionary of word ids as the keys and words as the values\n",
    "    :return: String of the predicted word\n",
    "    \"\"\"\n",
    "    # TODO: Implement Function\n",
    "    \n",
    "    indices      = np.argsort(-probabilities)\n",
    "    choice_probs = np.array([probabilities[idx] for idx in indices])\n",
    "    renormaized_probs = choice_probs / choice_probs.sum()\n",
    "\n",
    "    choice = np.random.choice(indices, p=renormaized_probs)\n",
    "\n",
    "    return int_to_vocab[choice]\n",
    "\n",
    "\"\"\"\n",
    "DON'T MODIFY ANYTHING IN THIS CELL THAT IS BELOW THIS LINE\n",
    "\"\"\"\n",
    "tests.test_pick_word(pick_word)"
   ]
  },
  {
   "cell_type": "markdown",
   "metadata": {
    "deletable": true,
    "editable": true
   },
   "source": [
    "## Generate TV Script\n",
    "This will generate the TV script for you.  Set `gen_length` to the length of TV script you want to generate."
   ]
  },
  {
   "cell_type": "code",
   "execution_count": 21,
   "metadata": {
    "ExecuteTime": {
     "end_time": "2018-02-03T15:33:49.331708Z",
     "start_time": "2018-02-03T15:33:39.998362Z"
    },
    "collapsed": false,
    "deletable": true,
    "editable": true
   },
   "outputs": [
    {
     "name": "stdout",
     "output_type": "stream",
     "text": [
      "INFO:tensorflow:Restoring parameters from ./save\n",
      "moe_szyslak:(friendly) hey, barney, what'll it be?\n",
      "barney_gumble: i'd like a beer moe.\n",
      "moe_szyslak:(quietly to self) oh, sounds like me.\n",
      "moe_szyslak: say no! he's just a chance!\n",
      "homer_simpson: son, you lost you.\n",
      "\n",
      "\n",
      "lenny_leonard: hey, we were just thinking wrong. but i moved on, an old man i see, homer?\n",
      "hans:(all right)\") hey, i've been using that ab roller my tip.\n",
      "homer_simpson:(homer) no, it is stupid. i did.\n",
      "kirk_van_houten: i could've at just...(bitter) or\n",
      "moe_szyslak: hey, we should put that ab roller drink that girl, do you know...\n",
      "mr. burns, invisible free beer.\n",
      "homer_simpson:.. now to think i could say the same.\n",
      "homer_simpson:(\" the clincher\") and are you man enough your money to me to buy a new friend.\n",
      "carl_carlson: hey, looks like you still miss the dank.\n",
      "marge_simpson:\n"
     ]
    }
   ],
   "source": [
    "gen_length = 200\n",
    "# homer_simpson, moe_szyslak, or Barney_Gumble\n",
    "prime_word = 'moe_szyslak'\n",
    "\n",
    "\"\"\"\n",
    "DON'T MODIFY ANYTHING IN THIS CELL THAT IS BELOW THIS LINE\n",
    "\"\"\"\n",
    "loaded_graph = tf.Graph()\n",
    "with tf.Session(graph=loaded_graph) as sess:\n",
    "    # Load saved model\n",
    "    loader = tf.train.import_meta_graph(load_dir + '.meta')\n",
    "    loader.restore(sess, load_dir)\n",
    "\n",
    "    # Get Tensors from loaded model\n",
    "    input_text, initial_state, final_state, probs = get_tensors(loaded_graph)\n",
    "\n",
    "    # Sentences generation setup\n",
    "    gen_sentences = [prime_word + ':']\n",
    "    prev_state = sess.run(initial_state, {input_text: np.array([[1]])})\n",
    "\n",
    "    # Generate sentences\n",
    "    for n in range(gen_length):\n",
    "        # Dynamic Input\n",
    "        dyn_input = [[vocab_to_int[word] for word in gen_sentences[-seq_length:]]]\n",
    "        dyn_seq_length = len(dyn_input[0])\n",
    "\n",
    "        # Get Prediction\n",
    "        probabilities, prev_state = sess.run(\n",
    "            [probs, final_state],\n",
    "            {input_text: dyn_input, initial_state: prev_state})\n",
    "        \n",
    "        pred_word = pick_word(probabilities[dyn_seq_length-1], int_to_vocab)\n",
    "\n",
    "        gen_sentences.append(pred_word)\n",
    "    \n",
    "    # Remove tokens\n",
    "    tv_script = ' '.join(gen_sentences)\n",
    "    for key, token in token_dict.items():\n",
    "        ending = ' ' if key in ['\\n', '(', '\"'] else ''\n",
    "        tv_script = tv_script.replace(' ' + token.lower(), key)\n",
    "    tv_script = tv_script.replace('\\n ', '\\n')\n",
    "    tv_script = tv_script.replace('( ', '(')\n",
    "        \n",
    "    print(tv_script)"
   ]
  },
  {
   "cell_type": "markdown",
   "metadata": {
    "deletable": true,
    "editable": true
   },
   "source": [
    "# The TV Script is Nonsensical\n",
    "It's ok if the TV script doesn't make any sense.  We trained on less than a megabyte of text.  In order to get good results, you'll have to use a smaller vocabulary or get more data.  Luckly there's more data!  As we mentioned in the begging of this project, this is a subset of [another dataset](https://www.kaggle.com/wcukierski/the-simpsons-by-the-data).  We didn't have you train on all the data, because that would take too long.  However, you are free to train your neural network on all the data.  After you complete the project, of course.\n",
    "# Submitting This Project\n",
    "When submitting this project, make sure to run all the cells before saving the notebook. Save the notebook file as \"dlnd_tv_script_generation.ipynb\" and save it as a HTML file under \"File\" -> \"Download as\". Include the \"helper.py\" and \"problem_unittests.py\" files in your submission."
   ]
  }
 ],
 "metadata": {
  "hide_input": false,
  "kernelspec": {
   "display_name": "Python 2",
   "language": "python",
   "name": "python2"
  },
  "language_info": {
   "codemirror_mode": {
    "name": "ipython",
    "version": 2
   },
   "file_extension": ".py",
   "mimetype": "text/x-python",
   "name": "python",
   "nbconvert_exporter": "python",
   "pygments_lexer": "ipython2",
   "version": "2.7.12"
  },
  "varInspector": {
   "cols": {
    "lenName": 16,
    "lenType": 16,
    "lenVar": 40
   },
   "kernels_config": {
    "python": {
     "delete_cmd_postfix": "",
     "delete_cmd_prefix": "del ",
     "library": "var_list.py",
     "varRefreshCmd": "print(var_dic_list())"
    },
    "r": {
     "delete_cmd_postfix": ") ",
     "delete_cmd_prefix": "rm(",
     "library": "var_list.r",
     "varRefreshCmd": "cat(var_dic_list()) "
    }
   },
   "types_to_exclude": [
    "module",
    "function",
    "builtin_function_or_method",
    "instance",
    "_Feature"
   ],
   "window_display": false
  },
  "widgets": {
   "state": {},
   "version": "1.1.2"
  }
 },
 "nbformat": 4,
 "nbformat_minor": 1
}
